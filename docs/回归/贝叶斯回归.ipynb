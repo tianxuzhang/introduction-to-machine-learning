{
 "cells": [
  {
   "cell_type": "markdown",
   "id": "5f743a36",
   "metadata": {},
   "source": [
    "\n",
    "## 贝叶斯回归\n",
    "贝叶斯回归是一种基于贝叶斯统计推断的回归方法。它通过引入先验分布来表达对参数的不确定性，并利用观测数据来更新参数的后验分布。假设我们有一个训练集包含$N$个样本，每个样本由输入特征$X$和对应的输出标签$y$组成。要经过的步骤是参数建模 -> 后验推断 -> 参数估计和预测。\n",
    "\n",
    "优缺点：\n",
    "* 贝叶斯回归引入先验知识。适用于小样本、高噪声以及需要考虑模型不确定性的数据。\n",
    "* 计算复杂度较高，需要进行概率推断和参数估计，不适用于高维数据。\n",
    "\n",
    "下面是使用Python和PyMC3库实现贝叶斯线性回归的示例代码："
   ]
  },
  {
   "cell_type": "code",
   "execution_count": 2,
   "id": "e84cfb5a",
   "metadata": {},
   "outputs": [
    {
     "name": "stderr",
     "output_type": "stream",
     "text": [
      "Auto-assigning NUTS sampler...\n",
      "Initializing NUTS using jitter+adapt_diag...\n",
      "Multiprocess sampling (4 chains in 4 jobs)\n",
      "NUTS: [sigma, w]\n",
      "Sampling 4 chains: 100%|██████████| 8000/8000 [00:02<00:00, 3036.46draws/s]\n"
     ]
    },
    {
     "name": "stdout",
     "output_type": "stream",
     "text": [
      "参数估计结果：\n",
      "w__0     2.890521\n",
      "w__1     4.865710\n",
      "sigma    0.945172\n",
      "Name: mean, dtype: float64\n"
     ]
    },
    {
     "name": "stderr",
     "output_type": "stream",
     "text": [
      "100%|██████████| 1000/1000 [00:01<00:00, 503.68it/s]"
     ]
    },
    {
     "name": "stdout",
     "output_type": "stream",
     "text": [
      "预测结果：\n",
      "[  1.03153314  -3.61562589   2.16812673  -3.11588044   9.60127944\n",
      "  12.16905026  -0.23648124   4.25748233  -4.45208439  -7.32287496\n",
      "   3.27508941   6.5172929   -0.836755     2.46292051  -6.08647484\n",
      "   0.58920231  -3.83147137   6.42264627  -3.61320578   1.41008255\n",
      "   6.48528022   0.24595292  -0.12118109   0.07075903  -8.62226662\n",
      "  11.63699736   3.94074076  -0.54817445   1.58446021   0.80333973\n",
      "  -8.5854543   -2.80430425  -5.25514791  -4.58258886 -14.3224442\n",
      "  -1.84326201   4.46406574   6.46984307   0.21513803 -14.46026694\n",
      "  -2.29835858   0.19768268   2.16854864  -4.15003522   9.75786452\n",
      "  -3.88164949  -7.4700798    3.36505357   4.478443     1.69431611\n",
      "  -2.70376263   7.05479675   1.63607418  -4.06979375  -4.62857722\n",
      "  -2.06437145   5.40670935   3.61310883   3.05419556  -1.92042677\n",
      "  -3.81055859  -0.7341311   -2.46628125   0.46042887   6.3505802\n",
      "  -5.52622373  -3.90441137  -4.68569514   2.0306271    0.6378601\n",
      "   2.38703032  -2.07502364   4.05460138   6.58315489  -0.94999262\n",
      "   3.896083   -12.56547747  -0.50816651  -1.16460501  10.06830438\n",
      "  -0.7681246   -1.35430004 -13.34554212  -5.37841587  -1.85885039\n",
      "  -8.55399374  -1.31399772   0.86910898  -1.72386609   1.79894702\n",
      "  -8.58868727   4.80504887   9.87574364  -5.17028682   6.4685171\n",
      "   1.12598447   8.74019895   0.1646509   -5.30968101   8.1008152 ]\n"
     ]
    },
    {
     "name": "stderr",
     "output_type": "stream",
     "text": [
      "\n"
     ]
    }
   ],
   "source": [
    "import pymc3 as pm\n",
    "import numpy as np\n",
    "\n",
    "# 构造训练集\n",
    "X = np.random.randn(100, 2)\n",
    "w_true = np.array([3, 5])\n",
    "y = X.dot(w_true) + np.random.randn(100)\n",
    "\n",
    "# 创建贝叶斯模型\n",
    "with pm.Model() as model:\n",
    "    # 定义参数的先验分布\n",
    "    w = pm.Normal('w', mu=0, sd=1, shape=2)\n",
    "    sigma = pm.HalfNormal('sigma', sd=1)\n",
    "    \n",
    "    # 定义输出标签的条件分布\n",
    "    y_obs = pm.Normal('y_obs', mu=pm.math.dot(X, w), sd=sigma, observed=y)\n",
    "    \n",
    "    # 进行后验推断\n",
    "    trace = pm.sample(1000, tune=1000)\n",
    "\n",
    "# 输出参数估计结果\n",
    "print(\"参数估计结果：\")\n",
    "print(pm.summary(trace)['mean'])\n",
    "\n",
    "# 进行预测\n",
    "x_new = np.array([[1, 2], [3, 4]])  # 新的输入特征\n",
    "with model:\n",
    "    post_pred = pm.sample_posterior_predictive(trace, samples=1000, vars=[y_obs])\n",
    "    y_pred_mean = np.mean(post_pred['y_obs'], axis=0)\n",
    "\n",
    "print(\"预测结果：\")\n",
    "print(y_pred_mean)"
   ]
  },
  {
   "cell_type": "markdown",
   "id": "a082712b",
   "metadata": {},
   "source": [
    "### 贝叶斯岭回归\n",
    "\n",
    "贝叶斯岭回归（Bayesian Ridge Regression）是一种基于贝叶斯统计推断的回归方法，结合了岭回归和贝叶斯推断的思想。\n",
    "\n",
    "具体步骤如下：\n",
    "\n",
    "----------\n",
    "假设模型为：\n",
    "\n",
    "$y = Xw + ε$ 其中，$y$是目标变量，$X$是特征矩阵，$w$是待估计的参数向量，$ε$是误差项。\n",
    "\n",
    "输入：特征矩阵 $X$（大小为 $n \\times p$），目标变量向量 $y$（长度为 $n$）\n",
    "\n",
    "输出：参数估计值 $w$\n",
    "\n",
    "----------\n",
    "\n",
    "\n",
    "* 定义先验分布：假设参数 $w$ 的先验分布为 $p(w)$。\n",
    "\n",
    "* 计算后验分布：根据贝叶斯定理，可以得到参数 $w$ 的后验分布：\n",
    "\n",
    "    $ p(w|X, y) = \\frac{p(y|X, w) \\cdot p(w)}{p(y|X)} $\n",
    "\n",
    "    其中，$p(y|X, w)$ 是给定参数 $w$ 条件下观测数据 $y$ 的概率密度函数，$p(w)$ 是参数 $w$ 的先验分布，$p(y|X)$ 是边际似然函数。\n",
    "\n",
    "* 参数估计：通过后验分布可以获得参数的点估计或分布估计。\n",
    "\n",
    "    * 点估计：例如，使用后验分布的均值作为参数的点估计：\n",
    "\n",
    "    $ \\hat{w} = E[w|X, y] = \\int w \\cdot p(w|X, y) dw $\n",
    "\n",
    "    * 分布估计：通过后验分布得到参数的概率分布，用于描述参数的不确定性：\n",
    "\n",
    "    $ p(w|X, y) $\n",
    "\n",
    "通过对后验分布进行采样或使用解析的数学表达式，可以获得对参数 $w$ 的估计结果，其中包括点估计和不确定性估计。\n",
    "\n",
    "---------\n",
    "\n",
    "下面是使用Python和Scikit-learn库实现贝叶斯岭回归的示例代码："
   ]
  },
  {
   "cell_type": "code",
   "execution_count": 1,
   "id": "e3592154",
   "metadata": {},
   "outputs": [
    {
     "name": "stdout",
     "output_type": "stream",
     "text": [
      "参数估计结果：\n",
      "[0.49999993 0.49999993]\n"
     ]
    }
   ],
   "source": [
    "from sklearn import linear_model\n",
    "\n",
    "X = [[0., 0.], [1., 1.], [2., 2.], [3., 3.]]\n",
    "Y = [0., 1., 2., 3.]\n",
    "\n",
    "# 创建贝叶斯岭回归模型\n",
    "reg = linear_model.BayesianRidge()\n",
    "\n",
    "# 拟合模型\n",
    "reg.fit(X, Y)\n",
    "\n",
    "# 输出参数估计结果\n",
    "print(\"参数估计结果：\")\n",
    "print(reg.coef_)\n",
    "\n",
    "# 进行预测\n",
    "y_pred = reg.predict([[1, 0.]])\n"
   ]
  },
  {
   "cell_type": "markdown",
   "id": "b64ce535",
   "metadata": {},
   "source": [
    "## 主动相关决策理论 - ARD\n",
    "\n",
    "ARDRegression类似于贝叶斯岭回归（Bayesian Ridge Regression），但具有更强的稀疏性。这是因为ARDRegression引入了不同于贝叶斯岭回归的先验假设，即权重 $w$ 的分布不再是球形的高斯分布，而是轴对齐的椭圆高斯分布。\n",
    "\n",
    "ARDRegression中的每个权重 $wi$ 都有一个单独的标准差 $λ_i$ 。所有 $λ_i$ 的先验分布由超参数 $λ1$ 、$λ2$ 等确定，通常使用相同的 $\\gamma$ 分布。\n",
    "\n",
    "ARDRegression可以用于特征选择，因为它倾向于将不相关或弱相关的特征的权重设为0，从而实现了稀疏性。这使得模型更容易解释，并且可以提高泛化性能。\n",
    "\n",
    "不过ARD也比较慢。\n",
    "\n",
    "下面给个sklearn的例子："
   ]
  },
  {
   "cell_type": "code",
   "execution_count": 2,
   "id": "9669dc59",
   "metadata": {},
   "outputs": [
    {
     "name": "stdout",
     "output_type": "stream",
     "text": [
      "Mean Squared Error:  0.010270127022996813\n"
     ]
    }
   ],
   "source": [
    "from sklearn.datasets import make_regression\n",
    "from sklearn.linear_model import ARDRegression\n",
    "from sklearn.model_selection import train_test_split\n",
    "from sklearn.metrics import mean_squared_error\n",
    "\n",
    "# 生成随机回归数据集\n",
    "X, y = make_regression(n_samples=100, n_features=10, noise=0.1, random_state=42)\n",
    "\n",
    "# 将数据集拆分为训练集和测试集\n",
    "X_train, X_test, y_train, y_test = train_test_split(X, y, test_size=0.2, random_state=42)\n",
    "\n",
    "# 创建并拟合ARDRegression模型\n",
    "model = ARDRegression()\n",
    "model.fit(X_train, y_train)\n",
    "\n",
    "# 使用模型进行预测\n",
    "y_pred = model.predict(X_test)\n",
    "\n",
    "# 计算均方误差（Mean Squared Error）\n",
    "mse = mean_squared_error(y_test, y_pred)\n",
    "print(\"Mean Squared Error: \", mse)"
   ]
  },
  {
   "cell_type": "markdown",
   "id": "8106892f",
   "metadata": {},
   "source": [
    "## 参考\n",
    "* 贝叶斯回归：使用 PyMC3 实现贝叶斯回归 https://baijiahao.baidu.com/s?id=1745363357212714786&wfr=spider&for=pc"
   ]
  }
 ],
 "metadata": {
  "kernelspec": {
   "display_name": "Python 3 (ipykernel)",
   "language": "python",
   "name": "python3"
  },
  "language_info": {
   "codemirror_mode": {
    "name": "ipython",
    "version": 3
   },
   "file_extension": ".py",
   "mimetype": "text/x-python",
   "name": "python",
   "nbconvert_exporter": "python",
   "pygments_lexer": "ipython3",
   "version": "3.11.5"
  }
 },
 "nbformat": 4,
 "nbformat_minor": 5
}
