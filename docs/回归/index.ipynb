{
 "cells": [
  {
   "cell_type": "markdown",
   "id": "6a8260ee",
   "metadata": {},
   "source": [
    "回归：预测与对象相关的连续值的属性。\n",
    "\n",
    "* 应用：药物反应、股票价格。\n",
    "* 算法：梯度提升、最近邻、随机森林、岭回归等等。\n",
    "\n",
    "![](../../images/ml-task/sphx_glr_plot_adaboost_regression_thumb.png)\n",
    "\n",
    "\n",
    "本章内容包含：\n",
    "* 线性回归\n",
    "    * [一元/多元线性回归](https://tianxuzhang.github.io/introduction-to-machine-learning/docs/回归/线性回归.html)\n",
    "    * [距离和范数](https://tianxuzhang.github.io/introduction-to-machine-learning/docs/回归/距离和范数.html)\n",
    "    * [最小二乘法](https://tianxuzhang.github.io/introduction-to-machine-learning/docs/回归/最小二乘法.html)\n",
    "    * [多项式回归](https://tianxuzhang.github.io/introduction-to-machine-learning/docs/回归/多项式回归.html)\n",
    "\n",
    "* [正则化线性回归](https://tianxuzhang.github.io/introduction-to-machine-learning/docs/回归/正则化线性回归.html)\n",
    "    * LASSO回归\n",
    "    * 多任务LASSO回归\n",
    "    * 岭回归\n",
    "    * 弹性网络\n",
    "    * 多任务弹性网络\n",
    "    \n",
    "* [迭代求解方法](https://tianxuzhang.github.io/introduction-to-machine-learning/docs/回归/迭代求解方法.html)\n",
    "    * 最小角回归（LARS）\n",
    "    * LARS LASSO\n",
    "    * 正交匹配追踪法（OMP）\n",
    "\n",
    "* [贝叶斯方法](https://tianxuzhang.github.io/introduction-to-machine-learning/docs/回归/贝叶斯方法.html)\n",
    "    * 贝叶斯回归\n",
    "    * 贝叶斯岭回归\n",
    "\n",
    "* 广义线性模型\n",
    "    * [逻辑回归](https://tianxuzhang.github.io/introduction-to-machine-learning/docs/回归/逻辑回归.html)\n",
    "    * 多元逻辑回归\n",
    "    * 泊松回归\n",
    "    * GLM模型\n",
    "\n",
    "* 其他\n",
    "    * 随机梯度下降\n",
    "    * 感知器\n",
    "    * 被动攻击算法\n",
    "    * 稳健回归"
   ]
  },
  {
   "cell_type": "code",
   "execution_count": null,
   "id": "34e10ec9-c17d-483c-8090-8f65459bde74",
   "metadata": {},
   "outputs": [],
   "source": []
  }
 ],
 "metadata": {
  "kernelspec": {
   "display_name": "Python 3 (ipykernel)",
   "language": "python",
   "name": "python3"
  },
  "language_info": {
   "codemirror_mode": {
    "name": "ipython",
    "version": 3
   },
   "file_extension": ".py",
   "mimetype": "text/x-python",
   "name": "python",
   "nbconvert_exporter": "python",
   "pygments_lexer": "ipython3",
   "version": "3.9.12"
  }
 },
 "nbformat": 4,
 "nbformat_minor": 5
}
