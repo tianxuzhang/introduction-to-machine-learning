{
 "cells": [
  {
   "cell_type": "markdown",
   "id": "6a8260ee",
   "metadata": {},
   "source": [
    "回归：预测与对象相关的连续值的属性。\n",
    "\n",
    "* 应用：药物反应、股票价格。\n",
    "* 算法：梯度提升、最近邻、随机森林、岭回归等等。\n",
    "\n",
    "![](../../images/ml-task/sphx_glr_plot_adaboost_regression_thumb.png)\n",
    "\n",
    "\n",
    "本章内容包含：\n",
    "* 简单线性回归\n",
    "    * [线性回归](https://tianxuzhang.github.io/introduction-to-machine-learning/docs/回归/线性回归.html)\n",
    "    * [距离和范数](https://tianxuzhang.github.io/introduction-to-machine-learning/docs/回归/距离和范数.html)\n",
    "    * [最小二乘法](https://tianxuzhang.github.io/introduction-to-machine-learning/docs/回归/最小二乘法.html)"
   ]
  },
  {
   "cell_type": "code",
   "execution_count": null,
   "id": "34e10ec9-c17d-483c-8090-8f65459bde74",
   "metadata": {},
   "outputs": [],
   "source": []
  }
 ],
 "metadata": {
  "kernelspec": {
   "display_name": "Python 3 (ipykernel)",
   "language": "python",
   "name": "python3"
  },
  "language_info": {
   "codemirror_mode": {
    "name": "ipython",
    "version": 3
   },
   "file_extension": ".py",
   "mimetype": "text/x-python",
   "name": "python",
   "nbconvert_exporter": "python",
   "pygments_lexer": "ipython3",
   "version": "3.9.12"
  }
 },
 "nbformat": 4,
 "nbformat_minor": 5
}
