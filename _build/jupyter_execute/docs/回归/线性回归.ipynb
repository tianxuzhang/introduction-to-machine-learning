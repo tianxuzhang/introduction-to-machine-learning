{
 "cells": [
  {
   "cell_type": "markdown",
   "id": "4e965284-df3b-4870-98cd-3ee9b07ce894",
   "metadata": {},
   "source": [
    "# 线性回归\n",
    "\n",
    "线性回归的目标是拟合一个带有系数 $$w = (w_1, ..., w_p)$$ 的线性模型，使得数据集实际观测数据和预测数据（估计值）之间的残差平方和（L2范数）最小。其数学表达式为:\n",
    "\n",
    "$$\\underset{w}{min} {|| X w^T - y||_2}^2$$\n",
    "\n",
    "\n",
    "下面是一个糖尿病数据集中某列数据的线性回归示例。"
   ]
  },
  {
   "cell_type": "code",
   "execution_count": 1,
   "id": "be751a7f-011a-4a20-b11b-299c8898968d",
   "metadata": {},
   "outputs": [
    {
     "name": "stdout",
     "output_type": "stream",
     "text": [
      "[[ 0.06169621]\n",
      " [-0.05147406]\n",
      " [ 0.04445121]\n",
      " [-0.01159501]\n",
      " [-0.03638469]] [151.  75. 141. 206. 135.]\n",
      "系数: \n",
      " [938.23786125]\n",
      "均方误差: 2548.07\n",
      "确定系数: 0.47\n"
     ]
    },
    {
     "data": {
      "image/png": "[encoded data removed]",
      "text/plain": [
       "<Figure size 432x288 with 1 Axes>"
      ]
     },
     "metadata": {},
     "output_type": "display_data"
    }
   ],
   "source": [
    "import matplotlib.pyplot as plt\n",
    "import numpy as np\n",
    "\n",
    "from sklearn import datasets, linear_model\n",
    "from sklearn.metrics import mean_squared_error, r2_score\n",
    "\n",
    "# 加载糖尿病数据集\n",
    "diabetes_X, diabetes_y = datasets.load_diabetes(return_X_y=True)\n",
    "\n",
    "# 只使用一个特征\n",
    "# 从 diabetes_X 中选择所有行，并且将第三列的元素作为一个新的维度添加进去。 (n_samples, n_features) -> (n_samples, 1)。\n",
    "diabetes_X = diabetes_X[:, np.newaxis, 2]\n",
    "print(diabetes_X[:5], diabetes_y[:5])\n",
    "\n",
    "# X划分测试集和训练集\n",
    "diabetes_X_train = diabetes_X[:-20]\n",
    "diabetes_X_test = diabetes_X[-20:]\n",
    "\n",
    "# y划分测试集和训练集\n",
    "diabetes_y_train = diabetes_y[:-20]\n",
    "diabetes_y_test = diabetes_y[-20:]\n",
    "\n",
    "# 创建线性回归对象\n",
    "regr = linear_model.LinearRegression()\n",
    "\n",
    "# 使用测试集训练模型\n",
    "regr.fit(diabetes_X_train, diabetes_y_train)\n",
    "\n",
    "# 使用测试集预测\n",
    "diabetes_y_pred = regr.predict(diabetes_X_test)\n",
    "\n",
    "# 系数\n",
    "print(\"系数: \\n\", regr.coef_)\n",
    "# 均方误差\n",
    "print(\"均方误差: %.2f\" % mean_squared_error(diabetes_y_test, diabetes_y_pred))\n",
    "# 确定系数，用R²表示\n",
    "print(\"确定系数: %.2f\" % r2_score(diabetes_y_test, diabetes_y_pred))\n",
    "\n",
    "# 可视化输出\n",
    "plt.scatter(diabetes_X_test, diabetes_y_test, color=\"black\")\n",
    "plt.plot(diabetes_X_test, diabetes_y_pred, color=\"blue\", linewidth=3)\n",
    "\n",
    "plt.xticks(())\n",
    "plt.yticks(())\n",
    "\n",
    "plt.show()"
   ]
  },
  {
   "cell_type": "markdown",
   "id": "57f30f02-946c-4188-9acd-15932f765c79",
   "metadata": {},
   "source": [
    "这个例子涉及到了很多概念。下面将逐步解答。\n",
    "\n",
    "* [最小二乘法](https://tianxuzhang.github.io/introduction-to-machine-learning/docs/最小二乘法.html)\n",
    "* [距离和范数](https://tianxuzhang.github.io/introduction-to-machine-learning/docs/距离和范数.html)"
   ]
  },
  {
   "cell_type": "code",
   "execution_count": null,
   "id": "12638f01-ce6e-4e69-a223-a61779159cc2",
   "metadata": {},
   "outputs": [],
   "source": []
  }
 ],
 "metadata": {
  "kernelspec": {
   "display_name": "Python 3 (ipykernel)",
   "language": "python",
   "name": "python3"
  },
  "language_info": {
   "codemirror_mode": {
    "name": "ipython",
    "version": 3
   },
   "file_extension": ".py",
   "mimetype": "text/x-python",
   "name": "python",
   "nbconvert_exporter": "python",
   "pygments_lexer": "ipython3",
   "version": "3.9.12"
  }
 },
 "nbformat": 4,
 "nbformat_minor": 5
}